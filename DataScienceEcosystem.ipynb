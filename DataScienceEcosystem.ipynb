{
 "cells": [
  {
   "cell_type": "markdown",
   "id": "baa1405b",
   "metadata": {},
   "source": [
    "# Data Science Tools and Ecosystem\n"
   ]
  },
  {
   "cell_type": "markdown",
   "id": "5d2a0d93",
   "metadata": {},
   "source": [
    "# In this notebook, Data Science Tools and Ecosystem are summarized."
   ]
  },
  {
   "cell_type": "markdown",
   "id": "e43e6e12",
   "metadata": {},
   "source": [
    "**Objectives:**\n",
    "\n",
    "- List popular languages for Data Science\n",
    "- Some of the popular languages that Data Scientists use are\n",
    "- Some of the commonly used libraries used by Data Scientists include\n",
    "- Data Science Tools \n",
    "- Convert time units in Python (e.g., minutes to hours)"
   ]
  },
  {
   "cell_type": "markdown",
   "id": "9522d3ad",
   "metadata": {},
   "source": [
    "# Some of the popular languages that Data Scientists use are:\n",
    "\n",
    "1. **Python**\n",
    "2. **R**\n",
    "3. **SQL**\n",
    "4. **Julia**"
   ]
  },
  {
   "cell_type": "markdown",
   "id": "b32048ce",
   "metadata": {},
   "source": [
    "# Some of the commonly used libraries used by Data Scientists include:\n",
    "\n",
    "1. **pandas**\n",
    "2. **NumPy**\n",
    "3. **scikit-learn**\n",
    "4. **Matplotlib**\n",
    "5. **TensorFlow**\n"
   ]
  },
  {
   "cell_type": "markdown",
   "id": "337b7c86",
   "metadata": {},
   "source": [
    "| Data Science Tools |\n",
    "   |--------------------|\n",
    "   | Jupyter Notebook   |\n",
    "   | RStudio            |\n",
    "   | Apache Airflow     |\n",
    "   | GitHub             |\n",
    "   | MySQL              |\n",
    "   | Kubernetes         |\n"
   ]
  },
  {
   "cell_type": "markdown",
   "id": "c348adee",
   "metadata": {},
   "source": [
    "### Below are a few examples of evaluating arithmetic expressions in Python.\n",
    "\n",
    "- Addition      :`2 + 3 = 5`\n",
    "- Subtraction   :    `5 - 2 = 3`\n",
    "- Multiplication: `3 * 4 = 12`\n",
    "- Division      :       `10 / 2 = 5`\n",
    "- Exponentiation: `2 ** 3 = 8`\n",
    "- Modulus       :        `10 % 3 = 1` \n",
    "- Floor Division: `10 // 3 = 3` \n"
   ]
  },
  {
   "cell_type": "code",
   "execution_count": 1,
   "id": "966451d0",
   "metadata": {},
   "outputs": [
    {
     "name": "stdout",
     "output_type": "stream",
     "text": [
      "17\n"
     ]
    }
   ],
   "source": [
    "# This is a simple arithmetic expression to multiply then add integers\n",
    "x = (3 * 4) + 5\n",
    "print(x)\n"
   ]
  },
  {
   "cell_type": "code",
   "execution_count": 2,
   "id": "375f282e",
   "metadata": {},
   "outputs": [
    {
     "data": {
      "text/plain": [
       "3.3333333333333335"
      ]
     },
     "execution_count": 2,
     "metadata": {},
     "output_type": "execute_result"
    }
   ],
   "source": [
    "#This will convert 200 minutes to hours by diving by 60\n",
    "minutes = 200\n",
    "hours= 200/60\n",
    "hours"
   ]
  },
  {
   "cell_type": "markdown",
   "id": "921b3299",
   "metadata": {},
   "source": [
    "## Author\n",
    "\n",
    "Suvigya KAtiyar\n",
    "\n"
   ]
  },
  {
   "cell_type": "code",
   "execution_count": null,
   "id": "317efba3",
   "metadata": {},
   "outputs": [],
   "source": []
  }
 ],
 "metadata": {
  "kernelspec": {
   "display_name": "Python 3 (ipykernel)",
   "language": "python",
   "name": "python3"
  },
  "language_info": {
   "codemirror_mode": {
    "name": "ipython",
    "version": 3
   },
   "file_extension": ".py",
   "mimetype": "text/x-python",
   "name": "python",
   "nbconvert_exporter": "python",
   "pygments_lexer": "ipython3",
   "version": "3.11.5"
  }
 },
 "nbformat": 4,
 "nbformat_minor": 5
}
